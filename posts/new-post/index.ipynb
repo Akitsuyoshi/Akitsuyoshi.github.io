{
 "cells": [
  {
   "cell_type": "markdown",
   "metadata": {},
   "source": [
    "---\n",
    "title: New Post\n",
    "date: today\n",
    "description: A nice new post\n",
    "categories: [nonsense, code]\n",
    "---"
   ]
  },
  {
   "cell_type": "markdown",
   "metadata": {},
   "source": [
    "## A nice heading"
   ]
  },
  {
   "cell_type": "markdown",
   "metadata": {},
   "source": [
    "Here is some lovely text and an equation.\n",
    "\n",
    "$$ a^2 + b^2 = c^2 $$\n",
    "\n",
    "Here's a list.\n",
    "\n",
    "- a link to an [external website](https://quarto.org).\n",
    "- a link to [another post in this blog](/posts/welcome/index.qmd)."
   ]
  },
  {
   "cell_type": "code",
   "execution_count": null,
   "metadata": {},
   "outputs": [],
   "source": [
    "print(\"hello blog\")"
   ]
  },
  {
   "cell_type": "code",
   "execution_count": null,
   "metadata": {},
   "outputs": [],
   "source": [
    "1 + 1"
   ]
  },
  {
   "cell_type": "markdown",
   "metadata": {},
   "source": []
  }
 ],
 "metadata": {
  "kernelspec": {
   "display_name": "Python 3 (ipykernel)",
   "language": "python",
   "name": "python3"
  }
 },
 "nbformat": 4,
 "nbformat_minor": 2
}
